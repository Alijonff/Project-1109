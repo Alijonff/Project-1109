{
  "nbformat": 4,
  "nbformat_minor": 0,
  "metadata": {
    "colab": {
      "provenance": [],
      "gpuType": "T4"
    },
    "kernelspec": {
      "name": "python3",
      "display_name": "Python 3"
    },
    "language_info": {
      "name": "python"
    },
    "gpuClass": "standard",
    "accelerator": "GPU"
  },
  "cells": [
    {
      "cell_type": "code",
      "source": [
        "import pandas as pd\n",
        "import numpy as np\n",
        "from keras.models import Sequential\n",
        "from keras.layers import Dense, Activation\n",
        "from keras.layers import SimpleRNN\n",
        "from sklearn.model_selection import train_test_split\n",
        "from sklearn.preprocessing import MinMaxScaler\n",
        "\n",
        "# Load the dataset\n",
        "data = pd.read_csv('dataset.csv')\n",
        "lookback = 4 # or the number of steps that the model will look back in the past to make a prediction\n",
        "\n",
        "# Preprocess the data\n",
        "scaler = MinMaxScaler()\n",
        "scaled_data = scaler.fit_transform(data)\n",
        "input_data = []\n",
        "output_data = []\n",
        "\n",
        "for i in range(lookback, len(scaled_data)):\n",
        "    input_data.append(scaled_data[i-lookback:i, 0:5])\n",
        "    output_data.append(scaled_data[i, 5:7])\n",
        "\n",
        "# Convert to numpy array\n",
        "input_data = np.array(input_data)\n",
        "output_data = np.array(output_data)\n",
        "\n",
        "# Split the data into training and testing sets\n",
        "X_train, X_test, y_train, y_test = train_test_split(input_data, output_data, test_size=0.1, random_state=1)\n",
        "\n",
        "# Build the model\n",
        "model = Sequential()\n",
        "model.add(SimpleRNN(units=3000, input_shape=(input_data.shape[1], input_data.shape[2]), activation='relu'))\n",
        "model.add(Dense(units=2, activation='linear'))\n",
        "\n",
        "# Compile the model\n",
        "model.compile(optimizer='adam', loss='mean_squared_error', metrics=['accuracy'])\n",
        "\n",
        "# Train the model\n",
        "model.fit(X_train, y_train, epochs=300, batch_size=73, verbose=0)\n",
        "\n",
        "# Evaluate the model on the testing set\n",
        "loss, accuracy = model.evaluate(X_test, y_test)\n",
        "print(\"Prediction accuracy: %.2f%%\" % (accuracy * 100))"
      ],
      "metadata": {
        "colab": {
          "base_uri": "https://localhost:8080/"
        },
        "id": "_dneUbA1WC-k",
        "outputId": "6eb7fa5f-2e11-4943-e265-c8b65d395418"
      },
      "execution_count": null,
      "outputs": [
        {
          "output_type": "stream",
          "name": "stdout",
          "text": [
            "3/3 [==============================] - 0s 6ms/step - loss: 0.0011 - accuracy: 0.8493\n",
            "Prediction accuracy: 84.93%\n"
          ]
        }
      ]
    }
  ]
}